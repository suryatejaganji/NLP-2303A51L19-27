{
  "nbformat": 4,
  "nbformat_minor": 0,
  "metadata": {
    "colab": {
      "provenance": [],
      "authorship_tag": "ABX9TyM7MkyRir0XxIlbqiPfjt+5",
      "include_colab_link": true
    },
    "kernelspec": {
      "name": "python3",
      "display_name": "Python 3"
    },
    "language_info": {
      "name": "python"
    }
  },
  "cells": [
    {
      "cell_type": "markdown",
      "metadata": {
        "id": "view-in-github",
        "colab_type": "text"
      },
      "source": [
        "<a href=\"https://colab.research.google.com/github/suryatejaganji/NLP-2303A51L19-27/blob/main/NLP%20AS-3.ipynb\" target=\"_parent\"><img src=\"https://colab.research.google.com/assets/colab-badge.svg\" alt=\"Open In Colab\"/></a>"
      ]
    },
    {
      "cell_type": "code",
      "source": [
        "from gensim.models import Word2Vec\n",
        "from gensim.models.word2vec import LineSentence\n",
        "from gensim.utils import simple_preprocess\n",
        "\n",
        "# List of words\n",
        "words = ['king', 'queen', 'man', 'woman', 'paris', 'france', 'london', 'england']\n",
        "\n",
        "# Prepare data for training Word2Vec\n",
        "# For simplicity, treat each word as a sentence\n",
        "sentences = [[word] for word in words]\n",
        "\n",
        "# Train a Word2Vec model\n",
        "model = Word2Vec(sentences, vector_size=50, window=1, min_count=1, sg=0)\n",
        "\n",
        "# Find most similar words (example)\n",
        "similarity = model.wv.most_similar('king')\n",
        "print(\"Most similar words to 'king':\")\n",
        "for word, score in similarity:\n",
        "    print(f\"{word}: {score:.4f}\")"
      ],
      "metadata": {
        "colab": {
          "base_uri": "https://localhost:8080/"
        },
        "id": "cZUC_AzMp3re",
        "outputId": "fbe388ae-692e-4238-b79a-3310971261f2"
      },
      "execution_count": 12,
      "outputs": [
        {
          "output_type": "stream",
          "name": "stdout",
          "text": [
            "Most similar words to 'king':\n",
            "woman: 0.1366\n",
            "england: 0.1320\n",
            "queen: 0.1125\n",
            "paris: 0.0449\n",
            "man: 0.0296\n",
            "london: -0.1755\n",
            "france: -0.2187\n"
          ]
        }
      ]
    },
    {
      "source": [
        "import gensim\n",
        "from gensim.models import Word2Vec\n",
        "import numpy as np\n",
        "import matplotlib.pyplot as plt\n",
        "from sklearn.decomposition import PCA\n",
        "from sklearn.manifold import TSNE\n",
        "\n",
        "\n",
        "words = ['king', 'queen', 'man', 'woman', 'paris', 'france', 'london', 'england']\n",
        "\n",
        "\n",
        "sentences = [\n",
        "    ['king', 'is', 'a', 'man', 'who', 'rules', 'a', 'kingdom'],\n",
        "    ['queen', 'is', 'a', 'woman', 'who', 'rules', 'a', 'kingdom'],\n",
        "    ['man', 'is', 'a', 'male', 'human'],\n",
        "    ['woman', 'is', 'a', 'female', 'human'],\n",
        "    ['paris', 'is', 'the', 'capital', 'of', 'france'],\n",
        "    ['london', 'is', 'the', 'capital', 'of', 'england'],\n",
        "    ['france', 'is', 'in', 'europe'],\n",
        "    ['england', 'is', 'in', 'europe'],\n",
        "    ['king', 'and', 'queen', 'are', 'royalty'],\n",
        "    ['man', 'and', 'woman', 'are', 'humans'],\n",
        "    ['paris', 'and', 'london', 'are', 'cities'],\n",
        "]\n",
        "\n",
        "# Train Word2Vec model\n",
        "model = Word2Vec(sentences, vector_size=100, window=5, min_count=1, workers=4) # add this line to train a Word2Vec model\n",
        "\n",
        "# Visualizing Word Embeddings using PCA\n",
        "words = ['king', 'queen', 'man', 'woman', 'paris', 'france', 'london', 'england']\n",
        "word_vectors = model.wv # assign the word vectors from the trained model to the variable\n",
        "word_vecs = [word_vectors[word] for word in words]\n",
        "\n",
        "pca = PCA(n_components=2)\n",
        "result = pca.fit_transform(word_vecs)\n",
        "\n",
        "plt.figure(figsize=(8, 6))\n",
        "plt.scatter(result[:, 0], result[:, 1], c='red')\n",
        "\n",
        "for i, word in enumerate(words):\n",
        "    plt.annotate(word, xy=(result[i, 0], result[i, 1]))\n",
        "\n",
        "plt.title(\"Word Embeddings Visualized using PCA\")\n",
        "plt.show()"
      ],
      "cell_type": "code",
      "metadata": {
        "colab": {
          "base_uri": "https://localhost:8080/",
          "height": 545
        },
        "id": "KC5_oXVZomzb",
        "outputId": "491f02e6-be2e-46f6-b722-107fba7d47b4"
      },
      "execution_count": 6,
      "outputs": [
        {
          "output_type": "display_data",
          "data": {
            "text/plain": [
              "<Figure size 800x600 with 1 Axes>"
            ],
            "image/png": "[encoded data removed]"
          },
          "metadata": {}
        }
      ]
    },
    {
      "source": [
        "\n",
        "\n",
        "import spacy\n",
        "\n",
        "# Load SpaCy model for Linguistic Structure and Dependency Parsing\n",
        "nlp = spacy.load(\"en_core_web_sm\")\n",
        "\n",
        "# Example sentence for analysis\n",
        "sentence = \"The quick brown fox jumps over the lazy dog.\"\n",
        "\n",
        "# Parse sentence using SpaCy\n",
        "doc = nlp(sentence)\n",
        "\n",
        "# Display linguistic structure and dependency parsing\n",
        "for token in doc:\n",
        "    print(f\"Word: {token.text:<12}, POS: {token.pos_:<10}, Dependency: {token.dep_:<10}, Head: {token.head.text}\")"
      ],
      "cell_type": "code",
      "metadata": {
        "colab": {
          "base_uri": "https://localhost:8080/"
        },
        "id": "8F_avxDio2g0",
        "outputId": "6a4ccc46-9b0e-4af0-e7b8-e5c5fc7e90e9"
      },
      "execution_count": 10,
      "outputs": [
        {
          "output_type": "stream",
          "name": "stdout",
          "text": [
            "Word: The         , POS: DET       , Dependency: det       , Head: fox\n",
            "Word: quick       , POS: ADJ       , Dependency: amod      , Head: fox\n",
            "Word: brown       , POS: ADJ       , Dependency: amod      , Head: fox\n",
            "Word: fox         , POS: NOUN      , Dependency: nsubj     , Head: jumps\n",
            "Word: jumps       , POS: VERB      , Dependency: ROOT      , Head: jumps\n",
            "Word: over        , POS: ADP       , Dependency: prep      , Head: jumps\n",
            "Word: the         , POS: DET       , Dependency: det       , Head: dog\n",
            "Word: lazy        , POS: ADJ       , Dependency: amod      , Head: dog\n",
            "Word: dog         , POS: NOUN      , Dependency: pobj      , Head: over\n",
            "Word: .           , POS: PUNCT     , Dependency: punct     , Head: jumps\n"
          ]
        }
      ]
    }
  ]
}